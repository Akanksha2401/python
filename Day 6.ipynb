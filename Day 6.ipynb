{
 "cells": [
  {
   "cell_type": "code",
   "execution_count": 1,
   "metadata": {},
   "outputs": [],
   "source": [
    "import sympy\n",
    "\n",
    "def checkPrimeNumber(num):\n",
    "    if sympy.isprime(num):\n",
    "        return num\n",
    "    else:\n",
    "        return(\"No Prime\")"
   ]
  },
  {
   "cell_type": "code",
   "execution_count": 2,
   "metadata": {},
   "outputs": [
    {
     "data": {
      "text/plain": [
       "7"
      ]
     },
     "execution_count": 2,
     "metadata": {},
     "output_type": "execute_result"
    }
   ],
   "source": [
    "checkPrimeNumber(7)\n"
   ]
  },
  {
   "cell_type": "code",
   "execution_count": 3,
   "metadata": {},
   "outputs": [
    {
     "name": "stdout",
     "output_type": "stream",
     "text": [
      "Writing check_pri.py\n"
     ]
    }
   ],
   "source": [
    "%%writefile check_pri.py\n",
    "import sympy\n",
    "'''\n",
    "Module to check prime Number\n",
    "'''\n",
    "def checkPrimeNumber(num):\n",
    "    '''\n",
    "    Function to Check Prime takes a Input\n",
    "    '''\n",
    "    if sympy.isprime(num):\n",
    "        '''\n",
    "        if statement\n",
    "        '''\n",
    "        return num\n",
    "    else:\n",
    "        return \"No Prime\""
   ]
  },
  {
   "cell_type": "code",
   "execution_count": 4,
   "metadata": {},
   "outputs": [
    {
     "name": "stdout",
     "output_type": "stream",
     "text": [
      "************* Module chPrime.py\n",
      "chPrime.py:1:0: F0001: No module named chPrime.py (fatal)\n"
     ]
    }
   ],
   "source": [
    "!pylint chPrime.py\n"
   ]
  },
  {
   "cell_type": "code",
   "execution_count": 5,
   "metadata": {},
   "outputs": [
    {
     "name": "stdout",
     "output_type": "stream",
     "text": [
      "Writing check_prime.py\n"
     ]
    }
   ],
   "source": [
    "%%writefile check_prime.py\n",
    "import unittest \n",
    "import check_pri\n",
    "\n",
    "class TestPrime(unittest.TestCase):\n",
    "    def checkprimeNumber(self):\n",
    "        num = 7\n",
    "        result = chPrime.checkPrimeNumber(num)\n",
    "        self.assertEqual(result,num)\n",
    "\n",
    "    def checkNotPrimenumber(self):\n",
    "        num= 8\n",
    "        result = chPrime.checkPrimeNumber(num)\n",
    "        self.assertEqual(result,\"No Prime\")\n",
    "\n",
    "if __name__ == \"__main__\":\n",
    "    unittest.main()"
   ]
  },
  {
   "cell_type": "code",
   "execution_count": 6,
   "metadata": {},
   "outputs": [
    {
     "name": "stderr",
     "output_type": "stream",
     "text": [
      "\n",
      "----------------------------------------------------------------------\n",
      "Ran 0 tests in 0.000s\n",
      "\n",
      "OK\n"
     ]
    }
   ],
   "source": [
    "!python check_prime.py\n"
   ]
  },
  {
   "cell_type": "code",
   "execution_count": 7,
   "metadata": {},
   "outputs": [
    {
     "name": "stderr",
     "output_type": "stream",
     "text": [
      "'pwd' is not recognized as an internal or external command,\n",
      "operable program or batch file.\n"
     ]
    }
   ],
   "source": [
    "!pwd\n"
   ]
  },
  {
   "cell_type": "code",
   "execution_count": null,
   "metadata": {},
   "outputs": [],
   "source": []
  }
 ],
 "metadata": {
  "kernelspec": {
   "display_name": "Python 3",
   "language": "python",
   "name": "python3"
  },
  "language_info": {
   "codemirror_mode": {
    "name": "ipython",
    "version": 3
   },
   "file_extension": ".py",
   "mimetype": "text/x-python",
   "name": "python",
   "nbconvert_exporter": "python",
   "pygments_lexer": "ipython3",
   "version": "3.7.4"
  }
 },
 "nbformat": 4,
 "nbformat_minor": 2
}
